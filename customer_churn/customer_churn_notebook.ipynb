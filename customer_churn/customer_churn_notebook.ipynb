{
 "cells": [
  {
   "cell_type": "markdown",
   "id": "89282e77",
   "metadata": {},
   "source": [
    "# Customer Churn Prediction\n",
    "\n",
    "**Goal:** Predict customers likely to churn using historical usage and support logs. This notebook shows preprocessing, SMOTE for imbalance, Logistic Regression and XGBoost, and evaluation with ROC, precision-recall.\n"
   ]
  },
  {
   "cell_type": "code",
   "execution_count": null,
   "id": "a6ecfa01",
   "metadata": {},
   "outputs": [],
   "source": [
    "import pandas as pd, numpy as np\n",
    "from sklearn.model_selection import train_test_split\n",
    "from sklearn.preprocessing import StandardScaler\n",
    "from sklearn.linear_model import LogisticRegression\n",
    "from sklearn.metrics import classification_report, roc_auc_score, precision_recall_curve, auc, confusion_matrix\n",
    "from imblearn.over_sampling import SMOTE\n",
    "import matplotlib.pyplot as plt"
   ]
  },
  {
   "cell_type": "code",
   "execution_count": null,
   "id": "d0f9a65c",
   "metadata": {},
   "outputs": [],
   "source": [
    "df = pd.read_csv('customer_data.csv')\n",
    "df.head()"
   ]
  },
  {
   "cell_type": "code",
   "execution_count": null,
   "id": "d285d984",
   "metadata": {},
   "outputs": [],
   "source": [
    "# Quick EDA\n",
    "print('Shape:', df.shape)\n",
    "print('Churn rate:', df.churn.mean())\n",
    "df.describe()"
   ]
  },
  {
   "cell_type": "code",
   "execution_count": null,
   "id": "26ec1719",
   "metadata": {},
   "outputs": [],
   "source": [
    "# Preprocessing\n",
    "X = df[['tenure_months','monthly_usage','support_calls','is_premium','last_login_days']]\n",
    "y = df['churn']\n",
    "X_train, X_test, y_train, y_test = train_test_split(X, y, test_size=0.25, stratify=y, random_state=42)\n",
    "scaler = StandardScaler()\n",
    "X_train_s = scaler.fit_transform(X_train)\n",
    "X_test_s = scaler.transform(X_test)"
   ]
  },
  {
   "cell_type": "code",
   "execution_count": null,
   "id": "61f6bc82",
   "metadata": {},
   "outputs": [],
   "source": [
    "# Handle imbalance with SMOTE on training set\n",
    "sm = SMOTE(random_state=42)\n",
    "X_sm, y_sm = sm.fit_resample(X_train_s, y_train)\n",
    "print('Resampled shape', X_sm.shape, y_sm.mean())"
   ]
  },
  {
   "cell_type": "code",
   "execution_count": null,
   "id": "d25a2737",
   "metadata": {},
   "outputs": [],
   "source": [
    "# Logistic Regression baseline\n",
    "lr = LogisticRegression(max_iter=1000)\n",
    "lr.fit(X_sm, y_sm)\n",
    "pred = lr.predict(X_test_s)\n",
    "print(classification_report(y_test, pred))\n",
    "print('ROC AUC:', roc_auc_score(y_test, lr.predict_proba(X_test_s)[:,1]))"
   ]
  },
  {
   "cell_type": "code",
   "execution_count": null,
   "id": "5eff31b4",
   "metadata": {},
   "outputs": [],
   "source": [
    "# XGBoost model\n",
    "import xgboost as xgb\n",
    "xgb_clf = xgb.XGBClassifier(use_label_encoder=False, eval_metric='logloss', n_estimators=200)\n",
    "xgb_clf.fit(X_sm, y_sm)\n",
    "pred_x = xgb_clf.predict(X_test_s)\n",
    "print(classification_report(y_test, pred_x))\n",
    "print('ROC AUC:', roc_auc_score(y_test, xgb_clf.predict_proba(X_test_s)[:,1]))"
   ]
  },
  {
   "cell_type": "code",
   "execution_count": null,
   "id": "74f1e2bf",
   "metadata": {},
   "outputs": [],
   "source": [
    "# Precision-Recall curve\n",
    "probs = xgb_clf.predict_proba(X_test_s)[:,1]\n",
    "precision, recall, _ = precision_recall_curve(y_test, probs)\n",
    "pr_auc = auc(recall, precision)\n",
    "print('PR AUC:', pr_auc)"
   ]
  },
  {
   "cell_type": "markdown",
   "id": "1ccac9b7",
   "metadata": {},
   "source": [
    "## Save the model\n",
    "You can save the scaler and model with joblib for later use in a web service."
   ]
  }
 ],
 "metadata": {},
 "nbformat": 4,
 "nbformat_minor": 5
}
